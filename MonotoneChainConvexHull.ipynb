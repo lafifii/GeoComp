{
  "nbformat": 4,
  "nbformat_minor": 0,
  "metadata": {
    "colab": {
      "name": "MonotoneChainConvexHull.ipynb",
      "provenance": []
    },
    "kernelspec": {
      "name": "python3",
      "display_name": "Python 3"
    }
  },
  "cells": [
    {
      "cell_type": "markdown",
      "metadata": {
        "id": "BPLo5BE7COIf",
        "colab_type": "text"
      },
      "source": [
        "##Monotone Chain Convex Hull\n",
        "\n",
        "---\n",
        "\n"
      ]
    },
    {
      "cell_type": "code",
      "metadata": {
        "id": "FKeVYJ77lB4N",
        "colab_type": "code",
        "colab": {}
      },
      "source": [
        "def cross(q,p,r):\n",
        "  return (p[0] - q[0]) * (r[1] - q[1]) - (p[1] - q[1]) * (r[0] - q[0])"
      ],
      "execution_count": 94,
      "outputs": []
    },
    {
      "cell_type": "code",
      "metadata": {
        "id": "LjxcMDpIzQf8",
        "colab_type": "code",
        "colab": {}
      },
      "source": [
        "def ConvexHull(v):\n",
        "\n",
        "    v = sorted(set(v))\n",
        "\n",
        "    Llower = []\n",
        "    for p in v:\n",
        "        while len(Llower) >= 2 and cross(Llower[-2], Llower[-1], p) <= 0:\n",
        "            Llower.pop()\n",
        "        Llower.append(p)\n",
        "\n",
        "    Lupper = []\n",
        "\n",
        "    v = reversed(v)\n",
        "    for p in v:\n",
        "        while len(Lupper) >= 2 and cross(Lupper[-2], Lupper[-1], p) <= 0:\n",
        "            Lupper.pop()\n",
        "        Lupper.append(p)\n",
        "\n",
        "    return Llower[:-1] + Lupper[:-1]\n"
      ],
      "execution_count": 95,
      "outputs": []
    },
    {
      "cell_type": "code",
      "metadata": {
        "id": "W4q-qpjwz07v",
        "colab_type": "code",
        "colab": {}
      },
      "source": [
        "from random import seed\n",
        "from random import randint\n",
        "seed(1)"
      ],
      "execution_count": 96,
      "outputs": []
    },
    {
      "cell_type": "code",
      "metadata": {
        "id": "SGhvQ5hP0CgC",
        "colab_type": "code",
        "colab": {}
      },
      "source": [
        "n = 100\n",
        "v = []\n",
        "for i in range(100):\n",
        "  x = randint(0,200)\n",
        "  y = randint(0,200)\n",
        "  v.append((x,y))"
      ],
      "execution_count": 97,
      "outputs": []
    },
    {
      "cell_type": "code",
      "metadata": {
        "id": "EtfwozJl0M5C",
        "colab_type": "code",
        "colab": {}
      },
      "source": [
        "import matplotlib.pyplot as plt\n",
        "import numpy as np"
      ],
      "execution_count": 98,
      "outputs": []
    },
    {
      "cell_type": "code",
      "metadata": {
        "id": "ADpR_81D0wX3",
        "colab_type": "code",
        "colab": {}
      },
      "source": [
        "ans = ConvexHull(v)\n",
        "xyz = np.array(v)"
      ],
      "execution_count": 99,
      "outputs": []
    },
    {
      "cell_type": "code",
      "metadata": {
        "id": "PG87z6zE1LAb",
        "colab_type": "code",
        "colab": {
          "base_uri": "https://localhost:8080/",
          "height": 264
        },
        "outputId": "2a9dd8f0-584d-4d98-cb45-f44113229918"
      },
      "source": [
        "fig, ax = plt.subplots()\n",
        "ax.scatter(xyz[:,0], xyz[:,1])\n",
        "for i in range(len(ans)):\n",
        "  x = [ans[i][0], ans[(i+1)%len(ans)][0]]\n",
        "  y = [ans[i][1], ans[(i+1)%len(ans)][1]]\n",
        "  ax.plot(x,y, 'gray', linestyle='-', marker='')"
      ],
      "execution_count": 100,
      "outputs": [
        {
          "output_type": "display_data",
          "data": {
            "image/png": "[encoded data removed]",
            "text/plain": [
              "<Figure size 432x288 with 1 Axes>"
            ]
          },
          "metadata": {
            "tags": [],
            "needs_background": "light"
          }
        }
      ]
    },
    {
      "cell_type": "code",
      "metadata": {
        "id": "HQzBljSeYuGt",
        "colab_type": "code",
        "colab": {}
      },
      "source": [
        ""
      ],
      "execution_count": 100,
      "outputs": []
    }
  ]
}