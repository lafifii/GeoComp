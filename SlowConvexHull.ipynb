{
  "nbformat": 4,
  "nbformat_minor": 0,
  "metadata": {
    "colab": {
      "name": "SlowConvexHull.ipynb",
      "provenance": []
    },
    "kernelspec": {
      "name": "python3",
      "display_name": "Python 3"
    }
  },
  "cells": [
    {
      "cell_type": "markdown",
      "metadata": {
        "id": "BPLo5BE7COIf",
        "colab_type": "text"
      },
      "source": [
        "##Slow Convex Hull\n",
        "\n",
        "---\n",
        "\n"
      ]
    },
    {
      "cell_type": "markdown",
      "metadata": {
        "id": "fKS9Ce4YCjPO",
        "colab_type": "text"
      },
      "source": [
        "1. **Implementar el algoritmo en cualquier lenguaje de programación y probarlo para un caso aleatorio n = 100**"
      ]
    },
    {
      "cell_type": "code",
      "metadata": {
        "id": "FKeVYJ77lB4N",
        "colab_type": "code",
        "colab": {}
      },
      "source": [
        "def isLeft(p,q,r):\n",
        "  return ((q[0] - p[0])*(r[1] - p[1]) - (q[1] - p[1])*(r[0] - p[0])) > 0"
      ],
      "execution_count": 115,
      "outputs": []
    },
    {
      "cell_type": "code",
      "metadata": {
        "id": "LjxcMDpIzQf8",
        "colab_type": "code",
        "colab": {}
      },
      "source": [
        "def SlowConvexHull(v):\n",
        "  ed = []\n",
        "  for i in range (len(v)):\n",
        "    for j in range(len(v)):\n",
        "      if(v[i] == v[j]):\n",
        "        continue \n",
        "\n",
        "      ok = 1 \n",
        "      for k in range(len(v)):\n",
        "        if(v[i] == v[k] or v[j] == v[k]):\n",
        "          continue \n",
        "        \n",
        "        if(isLeft(v[i],v[j],v[k])):\n",
        "          ok = 0\n",
        "\n",
        "      if(ok):\n",
        "        ed.append([v[i],v[j]])\n",
        "\n",
        "  ans = [ed[0][0], ed[0][1]]\n",
        "  ed.pop(0)\n",
        "  it = 0\n",
        "  while len(ed) > 0:\n",
        "    it+= 1 \n",
        "    if(it > 20):\n",
        "      break\n",
        "    id = -1\n",
        "    for i in range(len(ed)):\n",
        "      if(ed[i][0] == ans[-1]):\n",
        "        id = i \n",
        "        break \n",
        "\n",
        "    ans.append(ed[id][1])\n",
        "    ed.pop(id)\n",
        "\n",
        "  return ans"
      ],
      "execution_count": 116,
      "outputs": []
    },
    {
      "cell_type": "code",
      "metadata": {
        "id": "W4q-qpjwz07v",
        "colab_type": "code",
        "colab": {}
      },
      "source": [
        "from random import seed\n",
        "from random import randint\n",
        "seed(1)"
      ],
      "execution_count": 117,
      "outputs": []
    },
    {
      "cell_type": "code",
      "metadata": {
        "id": "SGhvQ5hP0CgC",
        "colab_type": "code",
        "colab": {}
      },
      "source": [
        "n = 100\n",
        "v = []\n",
        "for i in range(100):\n",
        "  x = randint(0,200)\n",
        "  y = randint(0,200)\n",
        "  v.append([x,y])"
      ],
      "execution_count": 118,
      "outputs": []
    },
    {
      "cell_type": "code",
      "metadata": {
        "id": "EtfwozJl0M5C",
        "colab_type": "code",
        "colab": {}
      },
      "source": [
        "import matplotlib.pyplot as plt\n",
        "import numpy as np"
      ],
      "execution_count": 119,
      "outputs": []
    },
    {
      "cell_type": "code",
      "metadata": {
        "id": "ADpR_81D0wX3",
        "colab_type": "code",
        "colab": {}
      },
      "source": [
        "ans = SlowConvexHull(v)\n",
        "xyz = np.array(v)"
      ],
      "execution_count": 120,
      "outputs": []
    },
    {
      "cell_type": "code",
      "metadata": {
        "id": "PG87z6zE1LAb",
        "colab_type": "code",
        "colab": {
          "base_uri": "https://localhost:8080/",
          "height": 264
        },
        "outputId": "116bb443-0f68-4cc5-9018-dfead0a51984"
      },
      "source": [
        "fig, ax = plt.subplots()\n",
        "ax.scatter(xyz[:,0], xyz[:,1])\n",
        "for i in range(len(ans) - 1):\n",
        "  x = [ans[i][0], ans[i+1][0]]\n",
        "  y = [ans[i][1], ans[i+1][1]]\n",
        "  ax.plot(x,y, 'gray', linestyle='-', marker='')"
      ],
      "execution_count": 121,
      "outputs": [
        {
          "output_type": "display_data",
          "data": {
            "image/png": "[encoded data removed]",
            "text/plain": [
              "<Figure size 432x288 with 1 Axes>"
            ]
          },
          "metadata": {
            "tags": [],
            "needs_background": "light"
          }
        }
      ]
    }
  ]
}
